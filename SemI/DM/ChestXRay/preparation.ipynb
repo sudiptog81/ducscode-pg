{
 "cells": [
  {
   "cell_type": "code",
   "execution_count": 1,
   "metadata": {},
   "outputs": [],
   "source": [
    "from os import path, makedirs\n",
    "from glob import glob\n",
    "from shutil import copy\n",
    "\n",
    "from tqdm import tqdm\n",
    "import pandas as pd"
   ]
  },
  {
   "cell_type": "code",
   "execution_count": 3,
   "metadata": {},
   "outputs": [
    {
     "data": {
      "text/html": [
       "<div>\n",
       "<style scoped>\n",
       "    .dataframe tbody tr th:only-of-type {\n",
       "        vertical-align: middle;\n",
       "    }\n",
       "\n",
       "    .dataframe tbody tr th {\n",
       "        vertical-align: top;\n",
       "    }\n",
       "\n",
       "    .dataframe thead th {\n",
       "        text-align: right;\n",
       "    }\n",
       "</style>\n",
       "<table border=\"1\" class=\"dataframe\">\n",
       "  <thead>\n",
       "    <tr style=\"text-align: right;\">\n",
       "      <th></th>\n",
       "      <th>0</th>\n",
       "    </tr>\n",
       "  </thead>\n",
       "  <tbody>\n",
       "    <tr>\n",
       "      <th>patientid</th>\n",
       "      <td>2</td>\n",
       "    </tr>\n",
       "    <tr>\n",
       "      <th>offset</th>\n",
       "      <td>0.0</td>\n",
       "    </tr>\n",
       "    <tr>\n",
       "      <th>sex</th>\n",
       "      <td>M</td>\n",
       "    </tr>\n",
       "    <tr>\n",
       "      <th>age</th>\n",
       "      <td>65.0</td>\n",
       "    </tr>\n",
       "    <tr>\n",
       "      <th>finding</th>\n",
       "      <td>Pneumonia/Viral/COVID-19</td>\n",
       "    </tr>\n",
       "    <tr>\n",
       "      <th>RT_PCR_positive</th>\n",
       "      <td>Y</td>\n",
       "    </tr>\n",
       "    <tr>\n",
       "      <th>survival</th>\n",
       "      <td>Y</td>\n",
       "    </tr>\n",
       "    <tr>\n",
       "      <th>intubated</th>\n",
       "      <td>N</td>\n",
       "    </tr>\n",
       "    <tr>\n",
       "      <th>intubation_present</th>\n",
       "      <td>N</td>\n",
       "    </tr>\n",
       "    <tr>\n",
       "      <th>went_icu</th>\n",
       "      <td>N</td>\n",
       "    </tr>\n",
       "    <tr>\n",
       "      <th>in_icu</th>\n",
       "      <td>N</td>\n",
       "    </tr>\n",
       "    <tr>\n",
       "      <th>needed_supplemental_O2</th>\n",
       "      <td>Y</td>\n",
       "    </tr>\n",
       "    <tr>\n",
       "      <th>extubated</th>\n",
       "      <td>NaN</td>\n",
       "    </tr>\n",
       "    <tr>\n",
       "      <th>temperature</th>\n",
       "      <td>NaN</td>\n",
       "    </tr>\n",
       "    <tr>\n",
       "      <th>pO2_saturation</th>\n",
       "      <td>NaN</td>\n",
       "    </tr>\n",
       "    <tr>\n",
       "      <th>leukocyte_count</th>\n",
       "      <td>NaN</td>\n",
       "    </tr>\n",
       "    <tr>\n",
       "      <th>neutrophil_count</th>\n",
       "      <td>NaN</td>\n",
       "    </tr>\n",
       "    <tr>\n",
       "      <th>lymphocyte_count</th>\n",
       "      <td>NaN</td>\n",
       "    </tr>\n",
       "    <tr>\n",
       "      <th>view</th>\n",
       "      <td>PA</td>\n",
       "    </tr>\n",
       "    <tr>\n",
       "      <th>modality</th>\n",
       "      <td>X-ray</td>\n",
       "    </tr>\n",
       "    <tr>\n",
       "      <th>date</th>\n",
       "      <td>January 22, 2020</td>\n",
       "    </tr>\n",
       "    <tr>\n",
       "      <th>location</th>\n",
       "      <td>Cho Ray Hospital, Ho Chi Minh City, Vietnam</td>\n",
       "    </tr>\n",
       "    <tr>\n",
       "      <th>folder</th>\n",
       "      <td>images</td>\n",
       "    </tr>\n",
       "    <tr>\n",
       "      <th>filename</th>\n",
       "      <td>auntminnie-a-2020_01_28_23_51_6665_2020_01_28_...</td>\n",
       "    </tr>\n",
       "    <tr>\n",
       "      <th>doi</th>\n",
       "      <td>10.1056/nejmc2001272</td>\n",
       "    </tr>\n",
       "    <tr>\n",
       "      <th>url</th>\n",
       "      <td>https://www.nejm.org/doi/full/10.1056/NEJMc200...</td>\n",
       "    </tr>\n",
       "    <tr>\n",
       "      <th>license</th>\n",
       "      <td>NaN</td>\n",
       "    </tr>\n",
       "    <tr>\n",
       "      <th>clinical_notes</th>\n",
       "      <td>On January 22, 2020, a 65-year-old man with a ...</td>\n",
       "    </tr>\n",
       "    <tr>\n",
       "      <th>other_notes</th>\n",
       "      <td>NaN</td>\n",
       "    </tr>\n",
       "    <tr>\n",
       "      <th>Unnamed: 29</th>\n",
       "      <td>NaN</td>\n",
       "    </tr>\n",
       "  </tbody>\n",
       "</table>\n",
       "</div>"
      ],
      "text/plain": [
       "                                                                        0\n",
       "patientid                                                               2\n",
       "offset                                                                0.0\n",
       "sex                                                                     M\n",
       "age                                                                  65.0\n",
       "finding                                          Pneumonia/Viral/COVID-19\n",
       "RT_PCR_positive                                                         Y\n",
       "survival                                                                Y\n",
       "intubated                                                               N\n",
       "intubation_present                                                      N\n",
       "went_icu                                                                N\n",
       "in_icu                                                                  N\n",
       "needed_supplemental_O2                                                  Y\n",
       "extubated                                                             NaN\n",
       "temperature                                                           NaN\n",
       "pO2_saturation                                                        NaN\n",
       "leukocyte_count                                                       NaN\n",
       "neutrophil_count                                                      NaN\n",
       "lymphocyte_count                                                      NaN\n",
       "view                                                                   PA\n",
       "modality                                                            X-ray\n",
       "date                                                     January 22, 2020\n",
       "location                      Cho Ray Hospital, Ho Chi Minh City, Vietnam\n",
       "folder                                                             images\n",
       "filename                auntminnie-a-2020_01_28_23_51_6665_2020_01_28_...\n",
       "doi                                                  10.1056/nejmc2001272\n",
       "url                     https://www.nejm.org/doi/full/10.1056/NEJMc200...\n",
       "license                                                               NaN\n",
       "clinical_notes          On January 22, 2020, a 65-year-old man with a ...\n",
       "other_notes                                                           NaN\n",
       "Unnamed: 29                                                           NaN"
      ]
     },
     "execution_count": 3,
     "metadata": {},
     "output_type": "execute_result"
    }
   ],
   "source": [
    "\n",
    "DEST_FOLDER = 'filtered_data'\n",
    "DATASET_FOLDER = 'covid-chestxray-dataset'\n",
    "\n",
    "metadata_df = pd.read_csv('covid-chestxray-dataset/metadata.csv')\n",
    "metadata_df.head(1).T"
   ]
  },
  {
   "cell_type": "code",
   "execution_count": 4,
   "metadata": {},
   "outputs": [
    {
     "name": "stdout",
     "output_type": "stream",
     "text": [
      "Creating folders and copying files according to views...\n"
     ]
    },
    {
     "name": "stderr",
     "output_type": "stream",
     "text": [
      "100%|██████████| 950/950 [00:01<00:00, 686.90it/s]\n"
     ]
    }
   ],
   "source": [
    "\n",
    "print('Creating folders and copying files according to views...')\n",
    "for index, row in tqdm(metadata_df.iterrows(), total=metadata_df.shape[0]):\n",
    "  if row['view'] in ['PA', 'AP']:\n",
    "    view_dest_folder = path.join(DEST_FOLDER, row['view'])\n",
    "    if not path.exists(view_dest_folder):\n",
    "      makedirs(view_dest_folder)\n",
    "    copy(path.join(DATASET_FOLDER, row['folder'], row['filename']), view_dest_folder)"
   ]
  },
  {
   "cell_type": "code",
   "execution_count": 5,
   "metadata": {},
   "outputs": [
    {
     "name": "stdout",
     "output_type": "stream",
     "text": [
      "Number of PA images copied: 344\n",
      "Number of AP images copied: 203\n",
      "Number of PA views in dataset: 344\n",
      "Number of AP views in dataset: 203\n"
     ]
    }
   ],
   "source": [
    "\n",
    "\n",
    "print('Number of PA images copied:', len(glob('filtered_data/PA/*')))\n",
    "print('Number of AP images copied:', len(glob('filtered_data/AP/*')))\n",
    "\n",
    "print('Number of PA views in dataset:', metadata_df[metadata_df['view'] == 'PA'].shape[0])\n",
    "print('Number of AP views in dataset:', mhttps://www.google.com/search?q=ieee+chestxray+dataset&oq=iee&aqs=chrome.0.69i59l3j69i57j0i271j69i60.1597j0j9&sourceid=chrome&ie=UTF-8etadata_df[metadata_df['view'] == 'AP'].shape[0])"
   ]
  },
  {
   "cell_type": "code",
   "execution_count": 9,
   "metadata": {},
   "outputs": [],
   "source": [
    "covid_df = metadata_df[metadata_df['finding'] == 'Pneumonia/Viral/COVID-19']"
   ]
  }
 ],
 "metadata": {
  "kernelspec": {
   "display_name": "venv",
   "language": "python",
   "name": "python3"
  },
  "language_info": {
   "codemirror_mode": {
    "name": "ipython",
    "version": 3
   },
   "file_extension": ".py",
   "mimetype": "text/x-python",
   "name": "python",
   "nbconvert_exporter": "python",
   "pygments_lexer": "ipython3",
   "version": "3.10.8"
  },
  "orig_nbformat": 4,
  "vscode": {
   "interpreter": {
    "hash": "93fcffd0e23d8a4b184b91b41b22453cdd47cc68fe90bfaf8d963ec9b8619b40"
   }
  }
 },
 "nbformat": 4,
 "nbformat_minor": 2
}
