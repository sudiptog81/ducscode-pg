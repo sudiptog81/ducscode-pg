{
  "nbformat": 4,
  "nbformat_minor": 0,
  "metadata": {
    "colab": {
      "provenance": []
    },
    "kernelspec": {
      "name": "python3",
      "display_name": "Python 3"
    },
    "language_info": {
      "name": "python"
    }
  },
  "cells": [
    {
      "cell_type": "markdown",
      "source": [
        "Author: Sudipto Ghosh (Roll No. 51) - University of Delhi"
      ],
      "metadata": {
        "id": "nFOz50mKXRJJ"
      }
    },
    {
      "cell_type": "code",
      "execution_count": null,
      "metadata": {
        "id": "TX7k2nM4QVsQ"
      },
      "outputs": [],
      "source": [
        "import numpy as np\n",
        "import pandas as pd\n",
        "import matplotlib.pyplot as plt"
      ]
    },
    {
      "cell_type": "code",
      "source": [
        "from google.colab import drive\n",
        "drive.mount('/content/gdrive/', force_remount=True)"
      ],
      "metadata": {
        "colab": {
          "base_uri": "https://localhost:8080/"
        },
        "id": "yPNyI-X7IyZO",
        "outputId": "cb621f60-e4ca-4644-8954-bccf1899ef89"
      },
      "execution_count": null,
      "outputs": [
        {
          "output_type": "stream",
          "name": "stdout",
          "text": [
            "Mounted at /content/gdrive/\n"
          ]
        }
      ]
    },
    {
      "cell_type": "code",
      "source": [
        "df = pd.read_csv('/content/gdrive/MyDrive/diabetes.csv')\n",
        "df.describe()"
      ],
      "metadata": {
        "colab": {
          "base_uri": "https://localhost:8080/",
          "height": 300
        },
        "id": "veTwO__3QvIj",
        "outputId": "4069eb1a-4c76-4302-a3a1-39dd6a1c693f"
      },
      "execution_count": null,
      "outputs": [
        {
          "output_type": "execute_result",
          "data": {
            "text/plain": [
              "       Pregnancies     Glucose  BloodPressure  SkinThickness     Insulin  \\\n",
              "count   768.000000  768.000000     768.000000     768.000000  768.000000   \n",
              "mean      3.845052  120.894531      69.105469      20.536458   79.799479   \n",
              "std       3.369578   31.972618      19.355807      15.952218  115.244002   \n",
              "min       0.000000    0.000000       0.000000       0.000000    0.000000   \n",
              "25%       1.000000   99.000000      62.000000       0.000000    0.000000   \n",
              "50%       3.000000  117.000000      72.000000      23.000000   30.500000   \n",
              "75%       6.000000  140.250000      80.000000      32.000000  127.250000   \n",
              "max      17.000000  199.000000     122.000000      99.000000  846.000000   \n",
              "\n",
              "              BMI  DiabetesPedigreeFunction         Age     Outcome  \n",
              "count  768.000000                768.000000  768.000000  768.000000  \n",
              "mean    31.992578                  0.471876   33.240885    0.348958  \n",
              "std      7.884160                  0.331329   11.760232    0.476951  \n",
              "min      0.000000                  0.078000   21.000000    0.000000  \n",
              "25%     27.300000                  0.243750   24.000000    0.000000  \n",
              "50%     32.000000                  0.372500   29.000000    0.000000  \n",
              "75%     36.600000                  0.626250   41.000000    1.000000  \n",
              "max     67.100000                  2.420000   81.000000    1.000000  "
            ],
            "text/html": [
              "\n",
              "  <div id=\"df-e78578ae-b1df-4d21-b5c1-54157a72f687\">\n",
              "    <div class=\"colab-df-container\">\n",
              "      <div>\n",
              "<style scoped>\n",
              "    .dataframe tbody tr th:only-of-type {\n",
              "        vertical-align: middle;\n",
              "    }\n",
              "\n",
              "    .dataframe tbody tr th {\n",
              "        vertical-align: top;\n",
              "    }\n",
              "\n",
              "    .dataframe thead th {\n",
              "        text-align: right;\n",
              "    }\n",
              "</style>\n",
              "<table border=\"1\" class=\"dataframe\">\n",
              "  <thead>\n",
              "    <tr style=\"text-align: right;\">\n",
              "      <th></th>\n",
              "      <th>Pregnancies</th>\n",
              "      <th>Glucose</th>\n",
              "      <th>BloodPressure</th>\n",
              "      <th>SkinThickness</th>\n",
              "      <th>Insulin</th>\n",
              "      <th>BMI</th>\n",
              "      <th>DiabetesPedigreeFunction</th>\n",
              "      <th>Age</th>\n",
              "      <th>Outcome</th>\n",
              "    </tr>\n",
              "  </thead>\n",
              "  <tbody>\n",
              "    <tr>\n",
              "      <th>count</th>\n",
              "      <td>768.000000</td>\n",
              "      <td>768.000000</td>\n",
              "      <td>768.000000</td>\n",
              "      <td>768.000000</td>\n",
              "      <td>768.000000</td>\n",
              "      <td>768.000000</td>\n",
              "      <td>768.000000</td>\n",
              "      <td>768.000000</td>\n",
              "      <td>768.000000</td>\n",
              "    </tr>\n",
              "    <tr>\n",
              "      <th>mean</th>\n",
              "      <td>3.845052</td>\n",
              "      <td>120.894531</td>\n",
              "      <td>69.105469</td>\n",
              "      <td>20.536458</td>\n",
              "      <td>79.799479</td>\n",
              "      <td>31.992578</td>\n",
              "      <td>0.471876</td>\n",
              "      <td>33.240885</td>\n",
              "      <td>0.348958</td>\n",
              "    </tr>\n",
              "    <tr>\n",
              "      <th>std</th>\n",
              "      <td>3.369578</td>\n",
              "      <td>31.972618</td>\n",
              "      <td>19.355807</td>\n",
              "      <td>15.952218</td>\n",
              "      <td>115.244002</td>\n",
              "      <td>7.884160</td>\n",
              "      <td>0.331329</td>\n",
              "      <td>11.760232</td>\n",
              "      <td>0.476951</td>\n",
              "    </tr>\n",
              "    <tr>\n",
              "      <th>min</th>\n",
              "      <td>0.000000</td>\n",
              "      <td>0.000000</td>\n",
              "      <td>0.000000</td>\n",
              "      <td>0.000000</td>\n",
              "      <td>0.000000</td>\n",
              "      <td>0.000000</td>\n",
              "      <td>0.078000</td>\n",
              "      <td>21.000000</td>\n",
              "      <td>0.000000</td>\n",
              "    </tr>\n",
              "    <tr>\n",
              "      <th>25%</th>\n",
              "      <td>1.000000</td>\n",
              "      <td>99.000000</td>\n",
              "      <td>62.000000</td>\n",
              "      <td>0.000000</td>\n",
              "      <td>0.000000</td>\n",
              "      <td>27.300000</td>\n",
              "      <td>0.243750</td>\n",
              "      <td>24.000000</td>\n",
              "      <td>0.000000</td>\n",
              "    </tr>\n",
              "    <tr>\n",
              "      <th>50%</th>\n",
              "      <td>3.000000</td>\n",
              "      <td>117.000000</td>\n",
              "      <td>72.000000</td>\n",
              "      <td>23.000000</td>\n",
              "      <td>30.500000</td>\n",
              "      <td>32.000000</td>\n",
              "      <td>0.372500</td>\n",
              "      <td>29.000000</td>\n",
              "      <td>0.000000</td>\n",
              "    </tr>\n",
              "    <tr>\n",
              "      <th>75%</th>\n",
              "      <td>6.000000</td>\n",
              "      <td>140.250000</td>\n",
              "      <td>80.000000</td>\n",
              "      <td>32.000000</td>\n",
              "      <td>127.250000</td>\n",
              "      <td>36.600000</td>\n",
              "      <td>0.626250</td>\n",
              "      <td>41.000000</td>\n",
              "      <td>1.000000</td>\n",
              "    </tr>\n",
              "    <tr>\n",
              "      <th>max</th>\n",
              "      <td>17.000000</td>\n",
              "      <td>199.000000</td>\n",
              "      <td>122.000000</td>\n",
              "      <td>99.000000</td>\n",
              "      <td>846.000000</td>\n",
              "      <td>67.100000</td>\n",
              "      <td>2.420000</td>\n",
              "      <td>81.000000</td>\n",
              "      <td>1.000000</td>\n",
              "    </tr>\n",
              "  </tbody>\n",
              "</table>\n",
              "</div>\n",
              "      <button class=\"colab-df-convert\" onclick=\"convertToInteractive('df-e78578ae-b1df-4d21-b5c1-54157a72f687')\"\n",
              "              title=\"Convert this dataframe to an interactive table.\"\n",
              "              style=\"display:none;\">\n",
              "        \n",
              "  <svg xmlns=\"http://www.w3.org/2000/svg\" height=\"24px\"viewBox=\"0 0 24 24\"\n",
              "       width=\"24px\">\n",
              "    <path d=\"M0 0h24v24H0V0z\" fill=\"none\"/>\n",
              "    <path d=\"M18.56 5.44l.94 2.06.94-2.06 2.06-.94-2.06-.94-.94-2.06-.94 2.06-2.06.94zm-11 1L8.5 8.5l.94-2.06 2.06-.94-2.06-.94L8.5 2.5l-.94 2.06-2.06.94zm10 10l.94 2.06.94-2.06 2.06-.94-2.06-.94-.94-2.06-.94 2.06-2.06.94z\"/><path d=\"M17.41 7.96l-1.37-1.37c-.4-.4-.92-.59-1.43-.59-.52 0-1.04.2-1.43.59L10.3 9.45l-7.72 7.72c-.78.78-.78 2.05 0 2.83L4 21.41c.39.39.9.59 1.41.59.51 0 1.02-.2 1.41-.59l7.78-7.78 2.81-2.81c.8-.78.8-2.07 0-2.86zM5.41 20L4 18.59l7.72-7.72 1.47 1.35L5.41 20z\"/>\n",
              "  </svg>\n",
              "      </button>\n",
              "      \n",
              "  <style>\n",
              "    .colab-df-container {\n",
              "      display:flex;\n",
              "      flex-wrap:wrap;\n",
              "      gap: 12px;\n",
              "    }\n",
              "\n",
              "    .colab-df-convert {\n",
              "      background-color: #E8F0FE;\n",
              "      border: none;\n",
              "      border-radius: 50%;\n",
              "      cursor: pointer;\n",
              "      display: none;\n",
              "      fill: #1967D2;\n",
              "      height: 32px;\n",
              "      padding: 0 0 0 0;\n",
              "      width: 32px;\n",
              "    }\n",
              "\n",
              "    .colab-df-convert:hover {\n",
              "      background-color: #E2EBFA;\n",
              "      box-shadow: 0px 1px 2px rgba(60, 64, 67, 0.3), 0px 1px 3px 1px rgba(60, 64, 67, 0.15);\n",
              "      fill: #174EA6;\n",
              "    }\n",
              "\n",
              "    [theme=dark] .colab-df-convert {\n",
              "      background-color: #3B4455;\n",
              "      fill: #D2E3FC;\n",
              "    }\n",
              "\n",
              "    [theme=dark] .colab-df-convert:hover {\n",
              "      background-color: #434B5C;\n",
              "      box-shadow: 0px 1px 3px 1px rgba(0, 0, 0, 0.15);\n",
              "      filter: drop-shadow(0px 1px 2px rgba(0, 0, 0, 0.3));\n",
              "      fill: #FFFFFF;\n",
              "    }\n",
              "  </style>\n",
              "\n",
              "      <script>\n",
              "        const buttonEl =\n",
              "          document.querySelector('#df-e78578ae-b1df-4d21-b5c1-54157a72f687 button.colab-df-convert');\n",
              "        buttonEl.style.display =\n",
              "          google.colab.kernel.accessAllowed ? 'block' : 'none';\n",
              "\n",
              "        async function convertToInteractive(key) {\n",
              "          const element = document.querySelector('#df-e78578ae-b1df-4d21-b5c1-54157a72f687');\n",
              "          const dataTable =\n",
              "            await google.colab.kernel.invokeFunction('convertToInteractive',\n",
              "                                                     [key], {});\n",
              "          if (!dataTable) return;\n",
              "\n",
              "          const docLinkHtml = 'Like what you see? Visit the ' +\n",
              "            '<a target=\"_blank\" href=https://colab.research.google.com/notebooks/data_table.ipynb>data table notebook</a>'\n",
              "            + ' to learn more about interactive tables.';\n",
              "          element.innerHTML = '';\n",
              "          dataTable['output_type'] = 'display_data';\n",
              "          await google.colab.output.renderOutput(dataTable, element);\n",
              "          const docLink = document.createElement('div');\n",
              "          docLink.innerHTML = docLinkHtml;\n",
              "          element.appendChild(docLink);\n",
              "        }\n",
              "      </script>\n",
              "    </div>\n",
              "  </div>\n",
              "  "
            ]
          },
          "metadata": {},
          "execution_count": 3
        }
      ]
    },
    {
      "cell_type": "code",
      "source": [
        "X = df.drop('Outcome', axis=1).values\n",
        "y = df['Outcome'].values"
      ],
      "metadata": {
        "id": "5hVJ8YsvRXzC"
      },
      "execution_count": null,
      "outputs": []
    },
    {
      "cell_type": "code",
      "source": [
        "from sklearn.preprocessing import StandardScaler\n",
        "\n",
        "scaler = StandardScaler()\n",
        "X = scaler.fit_transform(X)"
      ],
      "metadata": {
        "id": "xlFQkWAynNLm"
      },
      "execution_count": null,
      "outputs": []
    },
    {
      "cell_type": "markdown",
      "source": [
        "## Using a Decision Tree Classifier"
      ],
      "metadata": {
        "id": "eUHwvT2mTiFt"
      }
    },
    {
      "cell_type": "markdown",
      "source": [
        "### Holdout Method"
      ],
      "metadata": {
        "id": "clMrfhtETmUr"
      }
    },
    {
      "cell_type": "code",
      "source": [
        "from sklearn.model_selection import train_test_split\n",
        "from sklearn.tree import DecisionTreeClassifier\n",
        "\n",
        "X_train, X_test, Y_train, Y_test = train_test_split(\n",
        "  X, y, test_size=0.25, random_state=123\n",
        ")\n",
        "\n",
        "dt = DecisionTreeClassifier()\n",
        "print(dt)\n",
        "\n",
        "dt.fit(X_train, Y_train)\n",
        "result = dt.score(X_test, Y_test)\n",
        "\n",
        "print(f'Accuracy: {result * 100:.2f}%')"
      ],
      "metadata": {
        "colab": {
          "base_uri": "https://localhost:8080/"
        },
        "id": "t5sUNUDIRgTG",
        "outputId": "702a6f1f-7ac9-4140-a9ad-ce391eee3f06"
      },
      "execution_count": null,
      "outputs": [
        {
          "output_type": "stream",
          "name": "stdout",
          "text": [
            "DecisionTreeClassifier()\n",
            "Accuracy: 71.88%\n"
          ]
        }
      ]
    },
    {
      "cell_type": "markdown",
      "source": [
        "### $k$-fold Cross Validation ($k=10$)"
      ],
      "metadata": {
        "id": "m0u2pL-PTqDn"
      }
    },
    {
      "cell_type": "code",
      "source": [
        "from sklearn.model_selection import cross_val_score, KFold\n",
        "\n",
        "kfold = KFold(n_splits=10)\n",
        "\n",
        "dt_kfold = DecisionTreeClassifier()\n",
        "print(dt_kfold)\n",
        "\n",
        "results_kfold = cross_val_score(dt_kfold, X, y, cv=kfold)\n",
        "\n",
        "print(f'Accuracy: {results_kfold.mean() * 100:.2f}%')"
      ],
      "metadata": {
        "colab": {
          "base_uri": "https://localhost:8080/"
        },
        "id": "EagkrxtKSAb9",
        "outputId": "ad56d22f-dd46-47b8-b4e1-9f23d36c7e3c"
      },
      "execution_count": null,
      "outputs": [
        {
          "output_type": "stream",
          "name": "stdout",
          "text": [
            "DecisionTreeClassifier()\n",
            "Accuracy: 70.18%\n"
          ]
        }
      ]
    },
    {
      "cell_type": "markdown",
      "source": [
        "### Stratified $k$-fold Cross Validation ($k=3$)"
      ],
      "metadata": {
        "id": "uekpY7wJT1N9"
      }
    },
    {
      "cell_type": "code",
      "source": [
        "from sklearn.model_selection import StratifiedKFold\n",
        "\n",
        "skfold = StratifiedKFold(n_splits=3)\n",
        "\n",
        "dt_skfold = DecisionTreeClassifier()\n",
        "print(dt_skfold)\n",
        "\n",
        "results_skfold = cross_val_score(dt_skfold, X, y, cv=skfold)\n",
        "\n",
        "print(f'Accuracy: {results_skfold.mean() * 100:.2f}%')"
      ],
      "metadata": {
        "colab": {
          "base_uri": "https://localhost:8080/"
        },
        "id": "VbkA6dOWSQm8",
        "outputId": "68d2fb61-78ab-4e8f-80e1-22d44b578c3e"
      },
      "execution_count": null,
      "outputs": [
        {
          "output_type": "stream",
          "name": "stdout",
          "text": [
            "DecisionTreeClassifier()\n",
            "Accuracy: 67.97%\n"
          ]
        }
      ]
    },
    {
      "cell_type": "markdown",
      "source": [
        "### Leave One Out Cross Validation"
      ],
      "metadata": {
        "id": "lma0vDGKT6OX"
      }
    },
    {
      "cell_type": "code",
      "source": [
        "from sklearn.model_selection import LeaveOneOut\n",
        "\n",
        "loocv = LeaveOneOut()\n",
        "\n",
        "dt_loocv = DecisionTreeClassifier()\n",
        "print(dt_loocv)\n",
        "\n",
        "results_loocv = cross_val_score(dt_loocv, X, y, cv=loocv)\n",
        "\n",
        "print(f'Accuracy: {results_loocv.mean() * 100:.2f}%')"
      ],
      "metadata": {
        "colab": {
          "base_uri": "https://localhost:8080/"
        },
        "id": "AhSxZPHCSiO6",
        "outputId": "d8c92860-53a0-4682-c42a-9412f55587b3"
      },
      "execution_count": null,
      "outputs": [
        {
          "output_type": "stream",
          "name": "stdout",
          "text": [
            "DecisionTreeClassifier()\n",
            "Accuracy: 70.31%\n"
          ]
        }
      ]
    },
    {
      "cell_type": "markdown",
      "source": [
        "### Random Subsampling"
      ],
      "metadata": {
        "id": "dPIxVH_bUWB7"
      }
    },
    {
      "cell_type": "code",
      "source": [
        "from sklearn.model_selection import ShuffleSplit\n",
        "\n",
        "kfold_ransubsam = ShuffleSplit(n_splits=10, test_size=0.25, random_state=123)\n",
        "\n",
        "dt_shufflecv = DecisionTreeClassifier()\n",
        "print(dt_shufflecv)\n",
        "\n",
        "results_ransubsam = cross_val_score(dt_shufflecv, X, y, cv=kfold_ransubsam)\n",
        "\n",
        "print(f'Accuracy: {results_ransubsam.mean() * 100:.2f}% ({results_ransubsam.std():.2f}%)')"
      ],
      "metadata": {
        "colab": {
          "base_uri": "https://localhost:8080/"
        },
        "id": "H4F7EYzlStgu",
        "outputId": "69f379be-f16f-4cf0-90f8-774a3cdffa5c"
      },
      "execution_count": null,
      "outputs": [
        {
          "output_type": "stream",
          "name": "stdout",
          "text": [
            "DecisionTreeClassifier()\n",
            "Accuracy: 70.05% (0.03%)\n"
          ]
        }
      ]
    },
    {
      "cell_type": "markdown",
      "source": [
        "### Comparison"
      ],
      "metadata": {
        "id": "hDZvGLTHYAzK"
      }
    },
    {
      "cell_type": "code",
      "source": [
        "fig = plt.figure(figsize = (10, 5))\n",
        "\n",
        "plt.bar(['holdout', 'k-fold cv', 'strat k-fold cv', 'loocv', 'random subsampling'],\n",
        "        [result, results_kfold.mean(), results_skfold.mean(), results_loocv.mean(), results_ransubsam.mean()],\n",
        "        color ='maroon',\n",
        "        width = 0.4)\n",
        "\n",
        "plt.xlabel(\"evaluation method\")\n",
        "plt.ylabel(\"accuracy\")\n",
        "plt.title(\"comparing accuracies from various evaluation methods\")\n",
        "plt.show()"
      ],
      "metadata": {
        "colab": {
          "base_uri": "https://localhost:8080/",
          "height": 350
        },
        "id": "rd-yL9xoX_pt",
        "outputId": "02b81d6f-fe18-4ea2-b55c-1a190fa35144"
      },
      "execution_count": null,
      "outputs": [
        {
          "output_type": "display_data",
          "data": {
            "text/plain": [
              "<Figure size 720x360 with 1 Axes>"
            ],
            "image/png": "[encoded data removed]"
          },
          "metadata": {
            "needs_background": "light"
          }
        }
      ]
    },
    {
      "cell_type": "markdown",
      "source": [
        "## Using a Support Vector Classifier"
      ],
      "metadata": {
        "id": "R4e3ecCCUggF"
      }
    },
    {
      "cell_type": "markdown",
      "source": [
        "### Holdout Method"
      ],
      "metadata": {
        "id": "EuROdqhBUgZJ"
      }
    },
    {
      "cell_type": "code",
      "source": [
        "from sklearn.svm import SVC\n",
        "\n",
        "svc = SVC(kernel='linear', probability=True)\n",
        "print(svc)\n",
        "\n",
        "svc.fit(X_train, Y_train)\n",
        "result = svc.score(X_test, Y_test)\n",
        "\n",
        "print(f'Accuracy: {result * 100:.2f}%')"
      ],
      "metadata": {
        "colab": {
          "base_uri": "https://localhost:8080/"
        },
        "id": "lk40nsLpT10S",
        "outputId": "32f3486a-f2b5-4cdb-ffbb-3728c0905d6c"
      },
      "execution_count": null,
      "outputs": [
        {
          "output_type": "stream",
          "name": "stdout",
          "text": [
            "SVC(kernel='linear', probability=True)\n",
            "Accuracy: 81.25%\n"
          ]
        }
      ]
    },
    {
      "cell_type": "markdown",
      "source": [
        "### $k$-fold Cross Validation ($k=10$)"
      ],
      "metadata": {
        "id": "YwtVLxf_Uo_d"
      }
    },
    {
      "cell_type": "code",
      "source": [
        "kfold = KFold(n_splits=10)\n",
        "\n",
        "svc_kfold = SVC(kernel='linear')\n",
        "print(svc_kfold)\n",
        "\n",
        "results_kfold = cross_val_score(svc_kfold, X, y, cv=kfold)\n",
        "\n",
        "print(f'Accuracy: {results_kfold.mean() * 100:.2f}%')"
      ],
      "metadata": {
        "colab": {
          "base_uri": "https://localhost:8080/"
        },
        "id": "HLe-QE3jT4cy",
        "outputId": "dafc85d9-7bba-4403-ffd6-4336a3cf362b"
      },
      "execution_count": null,
      "outputs": [
        {
          "output_type": "stream",
          "name": "stdout",
          "text": [
            "SVC(kernel='linear')\n",
            "Accuracy: 77.34%\n"
          ]
        }
      ]
    },
    {
      "cell_type": "markdown",
      "source": [
        "### Stratified $k$-fold Cross Validation ($k=3$)"
      ],
      "metadata": {
        "id": "YorFdikKUrTN"
      }
    },
    {
      "cell_type": "code",
      "source": [
        "skfold = StratifiedKFold(n_splits=3)\n",
        "\n",
        "svc_skfold = SVC(kernel='linear')\n",
        "print(svc_skfold)\n",
        "\n",
        "results_skfold = cross_val_score(svc_skfold, X, y, cv=skfold)\n",
        "\n",
        "print(f'Accuracy: {results_skfold.mean() * 100:.2f}%')"
      ],
      "metadata": {
        "colab": {
          "base_uri": "https://localhost:8080/"
        },
        "id": "wiyiLhtCUF15",
        "outputId": "5acd49c4-b342-45c3-8df6-170c00146cde"
      },
      "execution_count": null,
      "outputs": [
        {
          "output_type": "stream",
          "name": "stdout",
          "text": [
            "SVC(kernel='linear')\n",
            "Accuracy: 75.91%\n"
          ]
        }
      ]
    },
    {
      "cell_type": "markdown",
      "source": [
        "### Leave One Out Cross Validation"
      ],
      "metadata": {
        "id": "9YmnBvy0UuHz"
      }
    },
    {
      "cell_type": "code",
      "source": [
        "loocv = LeaveOneOut()\n",
        "\n",
        "svc_loocv = SVC(kernel='linear')\n",
        "print(svc_loocv)\n",
        "\n",
        "results_loocv = cross_val_score(svc_loocv, X, y, cv=loocv)\n",
        "\n",
        "print(f'Accuracy: {results_loocv.mean() * 100:.2f}%')"
      ],
      "metadata": {
        "colab": {
          "base_uri": "https://localhost:8080/"
        },
        "id": "4KlZJD1wUIBj",
        "outputId": "913374f3-2ba9-4cab-b01c-2d96e7e7cf2f"
      },
      "execution_count": null,
      "outputs": [
        {
          "output_type": "stream",
          "name": "stdout",
          "text": [
            "SVC(kernel='linear')\n",
            "Accuracy: 77.08%\n"
          ]
        }
      ]
    },
    {
      "cell_type": "markdown",
      "source": [
        "### Random Subsampling"
      ],
      "metadata": {
        "id": "EVQ19v6eUukf"
      }
    },
    {
      "cell_type": "code",
      "source": [
        "kfold_ransubsam = ShuffleSplit(n_splits=10, test_size=0.25, random_state=123)\n",
        "\n",
        "svc_shufflecv = SVC(kernel='linear')\n",
        "print(svc_shufflecv)\n",
        "\n",
        "results_randsubsam = cross_val_score(svc_shufflecv, X, y, cv=kfold_ransubsam)\n",
        "\n",
        "print(f'Accuracy: {results_randsubsam.mean() * 100:.2f}% ({results_randsubsam.std():.2f}%)')"
      ],
      "metadata": {
        "colab": {
          "base_uri": "https://localhost:8080/"
        },
        "id": "YNkEOueNUKWx",
        "outputId": "378bc10f-cbb4-4f29-e5ec-a4a92af95349"
      },
      "execution_count": null,
      "outputs": [
        {
          "output_type": "stream",
          "name": "stdout",
          "text": [
            "SVC(kernel='linear')\n",
            "Accuracy: 77.92% (0.02%)\n"
          ]
        }
      ]
    },
    {
      "cell_type": "markdown",
      "source": [
        "### Comparison"
      ],
      "metadata": {
        "id": "qsou-R8AY49M"
      }
    },
    {
      "cell_type": "code",
      "source": [
        "fig = plt.figure(figsize = (10, 5))\n",
        "\n",
        "plt.bar(['holdout', 'k-fold cv', 'strat k-fold cv', 'loocv', 'random subsampling'],\n",
        "        [result, results_kfold.mean(), results_skfold.mean(), results_loocv.mean(), results_ransubsam.mean()],\n",
        "        color ='maroon',\n",
        "        width = 0.4)\n",
        "\n",
        "plt.xlabel(\"evaluation method\")\n",
        "plt.ylabel(\"accuracy\")\n",
        "plt.title(\"comparing accuracies from various evaluation methods\")\n",
        "plt.show()"
      ],
      "metadata": {
        "colab": {
          "base_uri": "https://localhost:8080/",
          "height": 350
        },
        "id": "uUjqYSULXLrs",
        "outputId": "1203cae3-ecc7-436c-f172-e2f472be2b09"
      },
      "execution_count": null,
      "outputs": [
        {
          "output_type": "display_data",
          "data": {
            "text/plain": [
              "<Figure size 720x360 with 1 Axes>"
            ],
            "image/png": "[encoded data removed]"
          },
          "metadata": {
            "needs_background": "light"
          }
        }
      ]
    },
    {
      "cell_type": "markdown",
      "source": [
        "## Using a NB Classifier"
      ],
      "metadata": {
        "id": "pPFMO3Mi_G9D"
      }
    },
    {
      "cell_type": "markdown",
      "source": [
        "### Holdout Method"
      ],
      "metadata": {
        "id": "efrNFO_B_Lte"
      }
    },
    {
      "cell_type": "code",
      "source": [
        "from sklearn.naive_bayes import GaussianNB\n",
        "\n",
        "nb = GaussianNB()\n",
        "print(nb)\n",
        "\n",
        "nb.fit(X_train, Y_train)\n",
        "result = nb.score(X_test, Y_test)\n",
        "\n",
        "print(f'Accuracy: {result * 100:.2f}%')"
      ],
      "metadata": {
        "colab": {
          "base_uri": "https://localhost:8080/"
        },
        "id": "KaNmfy11_JRT",
        "outputId": "3d2843de-fa2a-4234-dc03-d60565fe3fc0"
      },
      "execution_count": null,
      "outputs": [
        {
          "output_type": "stream",
          "name": "stdout",
          "text": [
            "GaussianNB()\n",
            "Accuracy: 76.56%\n"
          ]
        }
      ]
    },
    {
      "cell_type": "markdown",
      "source": [
        "### $k$-fold Cross Validation ($k$ = 10)"
      ],
      "metadata": {
        "id": "849K1BGF_vLP"
      }
    },
    {
      "cell_type": "code",
      "source": [
        "kfold = KFold(n_splits=10)\n",
        "\n",
        "nb_kfold = GaussianNB()\n",
        "print(nb_kfold)\n",
        "\n",
        "results_kfold = cross_val_score(nb_kfold, X, y, cv=kfold)\n",
        "\n",
        "print(f'Accuracy: {results_kfold.mean() * 100:.2f}%')"
      ],
      "metadata": {
        "colab": {
          "base_uri": "https://localhost:8080/"
        },
        "id": "-Or0_5TF_viE",
        "outputId": "c96fe4e1-578d-4cfa-a319-e118e2148f50"
      },
      "execution_count": null,
      "outputs": [
        {
          "output_type": "stream",
          "name": "stdout",
          "text": [
            "GaussianNB()\n",
            "Accuracy: 75.52%\n"
          ]
        }
      ]
    },
    {
      "cell_type": "markdown",
      "source": [
        "### Stratified $k$-fold Cross Validation ($k=3$)"
      ],
      "metadata": {
        "id": "1KRVUa2HAN6S"
      }
    },
    {
      "cell_type": "code",
      "source": [
        "skfold = StratifiedKFold(n_splits=3)\n",
        "\n",
        "nb_skfold = GaussianNB()\n",
        "print(nb_skfold)\n",
        "\n",
        "results_skfold = cross_val_score(nb_skfold, X, y, cv=skfold)\n",
        "\n",
        "print(f'Accuracy: {results_skfold.mean() * 100:.2f}%')"
      ],
      "metadata": {
        "colab": {
          "base_uri": "https://localhost:8080/"
        },
        "id": "8UoUZDs2AOI8",
        "outputId": "535a80e7-953d-4664-ab6b-ef3d052e29ff"
      },
      "execution_count": null,
      "outputs": [
        {
          "output_type": "stream",
          "name": "stdout",
          "text": [
            "GaussianNB()\n",
            "Accuracy: 74.22%\n"
          ]
        }
      ]
    },
    {
      "cell_type": "markdown",
      "source": [
        "### Leave One Out Cross Validation"
      ],
      "metadata": {
        "id": "AbK6RSDNAaEa"
      }
    },
    {
      "cell_type": "code",
      "source": [
        "loocv = LeaveOneOut()\n",
        "\n",
        "nb_loocv = GaussianNB()\n",
        "print(nb_loocv)\n",
        "\n",
        "results_loocv = cross_val_score(nb_loocv, X, y, cv=loocv)\n",
        "\n",
        "print(f'Accuracy: {results_loocv.mean() * 100:.2f}%')"
      ],
      "metadata": {
        "colab": {
          "base_uri": "https://localhost:8080/"
        },
        "id": "zV3_NfuEAZIU",
        "outputId": "a27326fa-4e55-4cf2-db26-87ef5472c3c8"
      },
      "execution_count": null,
      "outputs": [
        {
          "output_type": "stream",
          "name": "stdout",
          "text": [
            "GaussianNB()\n",
            "Accuracy: 75.39%\n"
          ]
        }
      ]
    },
    {
      "cell_type": "markdown",
      "source": [
        "### Random Subsampling"
      ],
      "metadata": {
        "id": "EdawGJkNBHrg"
      }
    },
    {
      "cell_type": "code",
      "source": [
        "kfold_ransubsam = ShuffleSplit(n_splits=10, test_size=0.25, random_state=123)\n",
        "\n",
        "nb_shufflecv = GaussianNB()\n",
        "print(nb_shufflecv)\n",
        "\n",
        "results_randsubsam = cross_val_score(nb_shufflecv, X, y, cv=kfold_ransubsam)\n",
        "\n",
        "print(f'Accuracy: {results_randsubsam.mean() * 100:.2f}% ({results_randsubsam.std():.2f}%)')"
      ],
      "metadata": {
        "colab": {
          "base_uri": "https://localhost:8080/"
        },
        "id": "_MjAKjaQAj8L",
        "outputId": "a4283c6c-f975-4b32-e3a9-f77a92d5ab9a"
      },
      "execution_count": null,
      "outputs": [
        {
          "output_type": "stream",
          "name": "stdout",
          "text": [
            "GaussianNB()\n",
            "Accuracy: 75.89% (0.02%)\n"
          ]
        }
      ]
    },
    {
      "cell_type": "markdown",
      "source": [
        "### Comparison"
      ],
      "metadata": {
        "id": "Z1RZ4NIQBRkB"
      }
    },
    {
      "cell_type": "code",
      "source": [
        "fig = plt.figure(figsize = (10, 5))\n",
        "\n",
        "plt.bar(['holdout', 'k-fold cv', 'strat k-fold cv', 'loocv', 'random subsampling'],\n",
        "        [result, results_kfold.mean(), results_skfold.mean(), results_loocv.mean(), results_ransubsam.mean()],\n",
        "        color ='maroon',\n",
        "        width = 0.4)\n",
        "\n",
        "plt.xlabel(\"evaluation method\")\n",
        "plt.ylabel(\"accuracy\")\n",
        "plt.title(\"comparing accuracies from various evaluation methods\")\n",
        "plt.show()"
      ],
      "metadata": {
        "colab": {
          "base_uri": "https://localhost:8080/",
          "height": 350
        },
        "id": "b9g7jRynBNj7",
        "outputId": "341f4298-df40-4057-c7a7-ac7f29408b4c"
      },
      "execution_count": null,
      "outputs": [
        {
          "output_type": "display_data",
          "data": {
            "text/plain": [
              "<Figure size 720x360 with 1 Axes>"
            ],
            "image/png": "[encoded data removed]"
          },
          "metadata": {
            "needs_background": "light"
          }
        }
      ]
    },
    {
      "cell_type": "markdown",
      "source": [
        "## Using an Ensemble Classifier"
      ],
      "metadata": {
        "id": "zG0SpcHWBXeX"
      }
    },
    {
      "cell_type": "markdown",
      "source": [
        "### Holdout Method"
      ],
      "metadata": {
        "id": "hpIqyMSKCCc2"
      }
    },
    {
      "cell_type": "code",
      "source": [
        "from sklearn.ensemble import VotingClassifier\n",
        "\n",
        "vc = VotingClassifier(estimators=[('dt',dt),('svm',svc),('nb',nb)], voting='soft')\n",
        "print(vc)\n",
        "\n",
        "vc.fit(X_train, Y_train)\n",
        "result = vc.score(X_test, Y_test)\n",
        "\n",
        "print(f'Accuracy: {result * 100:.2f}%')"
      ],
      "metadata": {
        "colab": {
          "base_uri": "https://localhost:8080/"
        },
        "id": "a4upxrnnBayE",
        "outputId": "4fa61ab2-8e85-4ca7-912d-59df80f0365c"
      },
      "execution_count": null,
      "outputs": [
        {
          "output_type": "stream",
          "name": "stdout",
          "text": [
            "VotingClassifier(estimators=[('dt', DecisionTreeClassifier()),\n",
            "                             ('svm', SVC(kernel='linear', probability=True)),\n",
            "                             ('nb', GaussianNB())],\n",
            "                 voting='soft')\n",
            "Accuracy: 78.65%\n"
          ]
        }
      ]
    },
    {
      "cell_type": "markdown",
      "source": [
        "### $k$-fold Cross Validation ($k$ = 10)"
      ],
      "metadata": {
        "id": "en2p8sRGCCaA"
      }
    },
    {
      "cell_type": "code",
      "source": [
        "kfold = KFold(n_splits=10)\n",
        "\n",
        "vc_kfold = VotingClassifier(estimators=[('dt',dt),('svm',svc),('nb',nb)], voting='soft')\n",
        "print(vc_kfold)\n",
        "\n",
        "results_kfold = cross_val_score(vc_kfold, X, y, cv=kfold)\n",
        "\n",
        "print(f'Accuracy: {results_kfold.mean() * 100:.2f}%')"
      ],
      "metadata": {
        "colab": {
          "base_uri": "https://localhost:8080/"
        },
        "id": "Enz30G-UB1zr",
        "outputId": "47f8a2a5-fb0d-4f26-a164-0b59be55399d"
      },
      "execution_count": null,
      "outputs": [
        {
          "output_type": "stream",
          "name": "stdout",
          "text": [
            "VotingClassifier(estimators=[('dt', DecisionTreeClassifier()),\n",
            "                             ('svm', SVC(kernel='linear', probability=True)),\n",
            "                             ('nb', GaussianNB())],\n",
            "                 voting='soft')\n",
            "Accuracy: 76.56%\n"
          ]
        }
      ]
    },
    {
      "cell_type": "markdown",
      "source": [
        "### Stratified $k$-fold Cross Validation ($k$ = 3)"
      ],
      "metadata": {
        "id": "Y5HsnpZ-CL2i"
      }
    },
    {
      "cell_type": "code",
      "source": [
        "skfold = StratifiedKFold(n_splits=3)\n",
        "\n",
        "vc_skfold = VotingClassifier(estimators=[('dt',dt),('svm',svc),('nb',nb)], voting='soft')\n",
        "print(vc_skfold)\n",
        "\n",
        "results_skfold = cross_val_score(vc_skfold, X, y, cv=skfold)\n",
        "\n",
        "print(f'Accuracy: {results_skfold.mean() * 100:.2f}%')"
      ],
      "metadata": {
        "colab": {
          "base_uri": "https://localhost:8080/"
        },
        "id": "VNexmhyQCNmM",
        "outputId": "753ffe25-3ef1-45e2-fee1-5d10b4695c6f"
      },
      "execution_count": null,
      "outputs": [
        {
          "output_type": "stream",
          "name": "stdout",
          "text": [
            "VotingClassifier(estimators=[('dt', DecisionTreeClassifier()),\n",
            "                             ('svm', SVC(kernel='linear', probability=True)),\n",
            "                             ('nb', GaussianNB())],\n",
            "                 voting='soft')\n",
            "Accuracy: 75.00%\n"
          ]
        }
      ]
    },
    {
      "cell_type": "markdown",
      "source": [
        "### Leave One Out Cross Validation"
      ],
      "metadata": {
        "id": "UtQ2xLCwCbou"
      }
    },
    {
      "cell_type": "code",
      "source": [
        "loocv = LeaveOneOut()\n",
        "\n",
        "vc_loocv = VotingClassifier(estimators=[('dt',dt),('svm',svc),('nb',nb)], voting='soft')\n",
        "print(vc_loocv)\n",
        "\n",
        "results_loocv = cross_val_score(vc_loocv, X, y, cv=loocv)\n",
        "\n",
        "print(f'Accuracy: {results_loocv.mean() * 100:.2f}%')"
      ],
      "metadata": {
        "colab": {
          "base_uri": "https://localhost:8080/"
        },
        "id": "Jj4kraszCamR",
        "outputId": "32aac0e0-db2a-4c33-9b2b-413e6ac99a4e"
      },
      "execution_count": null,
      "outputs": [
        {
          "output_type": "stream",
          "name": "stdout",
          "text": [
            "VotingClassifier(estimators=[('dt', DecisionTreeClassifier()),\n",
            "                             ('svm', SVC(kernel='linear', probability=True)),\n",
            "                             ('nb', GaussianNB())],\n",
            "                 voting='soft')\n",
            "Accuracy: 76.04%\n"
          ]
        }
      ]
    },
    {
      "cell_type": "markdown",
      "source": [
        "### Random Subsampling"
      ],
      "metadata": {
        "id": "I3nHCRmlCqBt"
      }
    },
    {
      "cell_type": "code",
      "source": [
        "kfold_ransubsam = ShuffleSplit(n_splits=10, test_size=0.25, random_state=123)\n",
        "\n",
        "vc_shufflecv = VotingClassifier(estimators=[('dt',dt),('svm',svc),('nb',nb)], voting='soft')\n",
        "print(vc_shufflecv)\n",
        "\n",
        "results_randsubsam = cross_val_score(vc_shufflecv, X, y, cv=kfold_ransubsam)\n",
        "\n",
        "print(f'Accuracy: {results_randsubsam.mean() * 100:.2f}% ({results_randsubsam.std():.2f}%)')"
      ],
      "metadata": {
        "colab": {
          "base_uri": "https://localhost:8080/"
        },
        "id": "cZ2YpBgYColS",
        "outputId": "17935c86-2d03-4c4f-d870-6f2c0b1195b8"
      },
      "execution_count": null,
      "outputs": [
        {
          "output_type": "stream",
          "name": "stdout",
          "text": [
            "VotingClassifier(estimators=[('dt', DecisionTreeClassifier()),\n",
            "                             ('svm', SVC(kernel='linear', probability=True)),\n",
            "                             ('nb', GaussianNB())],\n",
            "                 voting='soft')\n",
            "Accuracy: 76.61% (0.02%)\n"
          ]
        }
      ]
    },
    {
      "cell_type": "markdown",
      "source": [
        "### Comparison"
      ],
      "metadata": {
        "id": "pgjd4zgDCwq-"
      }
    },
    {
      "cell_type": "code",
      "source": [
        "fig = plt.figure(figsize = (10, 5))\n",
        "\n",
        "plt.bar(['holdout', 'k-fold cv', 'strat k-fold cv', 'loocv', 'random subsampling'],\n",
        "        [result, results_kfold.mean(), results_skfold.mean(), results_loocv.mean(), results_ransubsam.mean()],\n",
        "        color ='maroon',\n",
        "        width = 0.4)\n",
        "\n",
        "plt.xlabel(\"evaluation method\")\n",
        "plt.ylabel(\"accuracy\")\n",
        "plt.title(\"comparing accuracies from various evaluation methods\")\n",
        "plt.show()"
      ],
      "metadata": {
        "colab": {
          "base_uri": "https://localhost:8080/",
          "height": 350
        },
        "id": "M0aZgQ85CwHg",
        "outputId": "e2893192-0ded-49cf-df61-4625bb607934"
      },
      "execution_count": null,
      "outputs": [
        {
          "output_type": "display_data",
          "data": {
            "text/plain": [
              "<Figure size 720x360 with 1 Axes>"
            ],
            "image/png": "[encoded data removed]"
          },
          "metadata": {
            "needs_background": "light"
          }
        }
      ]
    }
  ]
}